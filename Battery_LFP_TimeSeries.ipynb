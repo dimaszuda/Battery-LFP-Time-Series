{
  "cells": [
    {
      "cell_type": "markdown",
      "metadata": {
        "id": "view-in-github",
        "colab_type": "text"
      },
      "source": [
        "<a href=\"https://colab.research.google.com/github/dimaszuda/Battery-LFP-Time-Series/blob/main/Battery_LFP_TimeSeries.ipynb\" target=\"_parent\"><img src=\"https://colab.research.google.com/assets/colab-badge.svg\" alt=\"Open In Colab\"/></a>"
      ]
    },
    {
      "cell_type": "code",
      "execution_count": null,
      "metadata": {
        "id": "K9drkQHODp1o"
      },
      "outputs": [],
      "source": [
        "import numpy as np\n",
        "import tensorflow as tf\n",
        "import pandas as pd\n",
        "from sklearn.preprocessing import MinMaxScaler\n",
        "from sklearn.model_selection import train_test_split\n",
        "from matplotlib import pyplot as plt\n",
        "from sklearn.metrics import mean_absolute_error"
      ]
    },
    {
      "cell_type": "code",
      "execution_count": null,
      "metadata": {
        "colab": {
          "base_uri": "https://localhost:8080/",
          "height": 374
        },
        "id": "OhZEmH5XQoUz",
        "outputId": "34db7909-5a2e-4162-9342-b7d99b3654ae"
      },
      "outputs": [
        {
          "output_type": "execute_result",
          "data": {
            "text/plain": [
              "   Cycle_Index                  Start_Time                    End_Time  \\\n",
              "0          1.0  2017-08-07 08:53:16.006963  2017-08-07 13:18:56.019464   \n",
              "1          2.0  2017-08-07 13:18:56.128497  2017-08-07 17:43:13.674372   \n",
              "2          3.0  2017-08-07 17:43:13.722274  2017-08-07 22:06:54.627952   \n",
              "3          4.0  2017-08-07 22:06:54.642112  2017-08-08 06:43:41.658825   \n",
              "4          5.0  2017-08-08 06:45:41.697825  2017-08-08 10:56:29.757984   \n",
              "\n",
              "   Test_Time (s)  Min_Current (A)  Max_Current (A)  Min_Voltage (V)  \\\n",
              "0      15950.019            -0.55            0.549            1.999   \n",
              "1      31807.674            -0.55            0.549            1.999   \n",
              "2      47628.627            -0.55            0.549            1.998   \n",
              "3      78635.658            -0.55            0.549            1.995   \n",
              "4      93803.757            -0.55            0.549            1.999   \n",
              "\n",
              "   Max_Voltage (V)  Charge_Capacity (Ah)  Discharge_Capacity (Ah)  \\\n",
              "0              3.6                 1.046                    1.067   \n",
              "1              3.6                 1.069                    1.069   \n",
              "2              3.6                 1.069                    1.070   \n",
              "3              3.6                 2.137                    2.141   \n",
              "4              3.6                 1.069                    1.070   \n",
              "\n",
              "   Charge_Energy (Wh)  Discharge_Energy (Wh)  \n",
              "0               3.523                  3.439  \n",
              "1               3.582                  3.446  \n",
              "2               3.580                  3.448  \n",
              "3               7.158                  6.899  \n",
              "4               3.576                  3.449  "
            ],
            "text/html": [
              "\n",
              "  <div id=\"df-7bdf38f2-04f4-48de-8c4d-70487fec42cb\">\n",
              "    <div class=\"colab-df-container\">\n",
              "      <div>\n",
              "<style scoped>\n",
              "    .dataframe tbody tr th:only-of-type {\n",
              "        vertical-align: middle;\n",
              "    }\n",
              "\n",
              "    .dataframe tbody tr th {\n",
              "        vertical-align: top;\n",
              "    }\n",
              "\n",
              "    .dataframe thead th {\n",
              "        text-align: right;\n",
              "    }\n",
              "</style>\n",
              "<table border=\"1\" class=\"dataframe\">\n",
              "  <thead>\n",
              "    <tr style=\"text-align: right;\">\n",
              "      <th></th>\n",
              "      <th>Cycle_Index</th>\n",
              "      <th>Start_Time</th>\n",
              "      <th>End_Time</th>\n",
              "      <th>Test_Time (s)</th>\n",
              "      <th>Min_Current (A)</th>\n",
              "      <th>Max_Current (A)</th>\n",
              "      <th>Min_Voltage (V)</th>\n",
              "      <th>Max_Voltage (V)</th>\n",
              "      <th>Charge_Capacity (Ah)</th>\n",
              "      <th>Discharge_Capacity (Ah)</th>\n",
              "      <th>Charge_Energy (Wh)</th>\n",
              "      <th>Discharge_Energy (Wh)</th>\n",
              "    </tr>\n",
              "  </thead>\n",
              "  <tbody>\n",
              "    <tr>\n",
              "      <th>0</th>\n",
              "      <td>1.0</td>\n",
              "      <td>2017-08-07 08:53:16.006963</td>\n",
              "      <td>2017-08-07 13:18:56.019464</td>\n",
              "      <td>15950.019</td>\n",
              "      <td>-0.55</td>\n",
              "      <td>0.549</td>\n",
              "      <td>1.999</td>\n",
              "      <td>3.6</td>\n",
              "      <td>1.046</td>\n",
              "      <td>1.067</td>\n",
              "      <td>3.523</td>\n",
              "      <td>3.439</td>\n",
              "    </tr>\n",
              "    <tr>\n",
              "      <th>1</th>\n",
              "      <td>2.0</td>\n",
              "      <td>2017-08-07 13:18:56.128497</td>\n",
              "      <td>2017-08-07 17:43:13.674372</td>\n",
              "      <td>31807.674</td>\n",
              "      <td>-0.55</td>\n",
              "      <td>0.549</td>\n",
              "      <td>1.999</td>\n",
              "      <td>3.6</td>\n",
              "      <td>1.069</td>\n",
              "      <td>1.069</td>\n",
              "      <td>3.582</td>\n",
              "      <td>3.446</td>\n",
              "    </tr>\n",
              "    <tr>\n",
              "      <th>2</th>\n",
              "      <td>3.0</td>\n",
              "      <td>2017-08-07 17:43:13.722274</td>\n",
              "      <td>2017-08-07 22:06:54.627952</td>\n",
              "      <td>47628.627</td>\n",
              "      <td>-0.55</td>\n",
              "      <td>0.549</td>\n",
              "      <td>1.998</td>\n",
              "      <td>3.6</td>\n",
              "      <td>1.069</td>\n",
              "      <td>1.070</td>\n",
              "      <td>3.580</td>\n",
              "      <td>3.448</td>\n",
              "    </tr>\n",
              "    <tr>\n",
              "      <th>3</th>\n",
              "      <td>4.0</td>\n",
              "      <td>2017-08-07 22:06:54.642112</td>\n",
              "      <td>2017-08-08 06:43:41.658825</td>\n",
              "      <td>78635.658</td>\n",
              "      <td>-0.55</td>\n",
              "      <td>0.549</td>\n",
              "      <td>1.995</td>\n",
              "      <td>3.6</td>\n",
              "      <td>2.137</td>\n",
              "      <td>2.141</td>\n",
              "      <td>7.158</td>\n",
              "      <td>6.899</td>\n",
              "    </tr>\n",
              "    <tr>\n",
              "      <th>4</th>\n",
              "      <td>5.0</td>\n",
              "      <td>2017-08-08 06:45:41.697825</td>\n",
              "      <td>2017-08-08 10:56:29.757984</td>\n",
              "      <td>93803.757</td>\n",
              "      <td>-0.55</td>\n",
              "      <td>0.549</td>\n",
              "      <td>1.999</td>\n",
              "      <td>3.6</td>\n",
              "      <td>1.069</td>\n",
              "      <td>1.070</td>\n",
              "      <td>3.576</td>\n",
              "      <td>3.449</td>\n",
              "    </tr>\n",
              "  </tbody>\n",
              "</table>\n",
              "</div>\n",
              "      <button class=\"colab-df-convert\" onclick=\"convertToInteractive('df-7bdf38f2-04f4-48de-8c4d-70487fec42cb')\"\n",
              "              title=\"Convert this dataframe to an interactive table.\"\n",
              "              style=\"display:none;\">\n",
              "        \n",
              "  <svg xmlns=\"http://www.w3.org/2000/svg\" height=\"24px\"viewBox=\"0 0 24 24\"\n",
              "       width=\"24px\">\n",
              "    <path d=\"M0 0h24v24H0V0z\" fill=\"none\"/>\n",
              "    <path d=\"M18.56 5.44l.94 2.06.94-2.06 2.06-.94-2.06-.94-.94-2.06-.94 2.06-2.06.94zm-11 1L8.5 8.5l.94-2.06 2.06-.94-2.06-.94L8.5 2.5l-.94 2.06-2.06.94zm10 10l.94 2.06.94-2.06 2.06-.94-2.06-.94-.94-2.06-.94 2.06-2.06.94z\"/><path d=\"M17.41 7.96l-1.37-1.37c-.4-.4-.92-.59-1.43-.59-.52 0-1.04.2-1.43.59L10.3 9.45l-7.72 7.72c-.78.78-.78 2.05 0 2.83L4 21.41c.39.39.9.59 1.41.59.51 0 1.02-.2 1.41-.59l7.78-7.78 2.81-2.81c.8-.78.8-2.07 0-2.86zM5.41 20L4 18.59l7.72-7.72 1.47 1.35L5.41 20z\"/>\n",
              "  </svg>\n",
              "      </button>\n",
              "      \n",
              "  <style>\n",
              "    .colab-df-container {\n",
              "      display:flex;\n",
              "      flex-wrap:wrap;\n",
              "      gap: 12px;\n",
              "    }\n",
              "\n",
              "    .colab-df-convert {\n",
              "      background-color: #E8F0FE;\n",
              "      border: none;\n",
              "      border-radius: 50%;\n",
              "      cursor: pointer;\n",
              "      display: none;\n",
              "      fill: #1967D2;\n",
              "      height: 32px;\n",
              "      padding: 0 0 0 0;\n",
              "      width: 32px;\n",
              "    }\n",
              "\n",
              "    .colab-df-convert:hover {\n",
              "      background-color: #E2EBFA;\n",
              "      box-shadow: 0px 1px 2px rgba(60, 64, 67, 0.3), 0px 1px 3px 1px rgba(60, 64, 67, 0.15);\n",
              "      fill: #174EA6;\n",
              "    }\n",
              "\n",
              "    [theme=dark] .colab-df-convert {\n",
              "      background-color: #3B4455;\n",
              "      fill: #D2E3FC;\n",
              "    }\n",
              "\n",
              "    [theme=dark] .colab-df-convert:hover {\n",
              "      background-color: #434B5C;\n",
              "      box-shadow: 0px 1px 3px 1px rgba(0, 0, 0, 0.15);\n",
              "      filter: drop-shadow(0px 1px 2px rgba(0, 0, 0, 0.3));\n",
              "      fill: #FFFFFF;\n",
              "    }\n",
              "  </style>\n",
              "\n",
              "      <script>\n",
              "        const buttonEl =\n",
              "          document.querySelector('#df-7bdf38f2-04f4-48de-8c4d-70487fec42cb button.colab-df-convert');\n",
              "        buttonEl.style.display =\n",
              "          google.colab.kernel.accessAllowed ? 'block' : 'none';\n",
              "\n",
              "        async function convertToInteractive(key) {\n",
              "          const element = document.querySelector('#df-7bdf38f2-04f4-48de-8c4d-70487fec42cb');\n",
              "          const dataTable =\n",
              "            await google.colab.kernel.invokeFunction('convertToInteractive',\n",
              "                                                     [key], {});\n",
              "          if (!dataTable) return;\n",
              "\n",
              "          const docLinkHtml = 'Like what you see? Visit the ' +\n",
              "            '<a target=\"_blank\" href=https://colab.research.google.com/notebooks/data_table.ipynb>data table notebook</a>'\n",
              "            + ' to learn more about interactive tables.';\n",
              "          element.innerHTML = '';\n",
              "          dataTable['output_type'] = 'display_data';\n",
              "          await google.colab.output.renderOutput(dataTable, element);\n",
              "          const docLink = document.createElement('div');\n",
              "          docLink.innerHTML = docLinkHtml;\n",
              "          element.appendChild(docLink);\n",
              "        }\n",
              "      </script>\n",
              "    </div>\n",
              "  </div>\n",
              "  "
            ]
          },
          "metadata": {},
          "execution_count": 8
        }
      ],
      "source": [
        "data = pd.read_csv('SNL_18650_LFP_25C_0-100_0.5-0.5C_a_cycle_data (1).csv')\n",
        "data.head()"
      ]
    },
    {
      "cell_type": "code",
      "execution_count": null,
      "metadata": {
        "id": "RNJiT94WRskh"
      },
      "outputs": [],
      "source": [
        "data.drop(data.columns[[1, 2, 10, 11]], axis=1, inplace=True)"
      ]
    },
    {
      "cell_type": "code",
      "execution_count": null,
      "metadata": {
        "colab": {
          "base_uri": "https://localhost:8080/",
          "height": 268
        },
        "id": "9Z6Lx3E-350L",
        "outputId": "aec3d595-a3fb-4624-f85e-16659c3f4b6b"
      },
      "outputs": [
        {
          "output_type": "execute_result",
          "data": {
            "text/plain": [
              "      Cycle_Index  Test_Time (s)  Min_Current (A)  Max_Current (A)  \\\n",
              "3046       3046.0   4.307966e+07           -0.553            0.546   \n",
              "3047       3047.0   4.309375e+07           -0.553            0.547   \n",
              "3048       3048.0   4.310786e+07           -0.553            0.547   \n",
              "3049       3049.0   4.312196e+07           -0.553            0.547   \n",
              "3050       3050.0   4.312202e+07            0.000            0.000   \n",
              "\n",
              "      Min_Voltage (V)  Max_Voltage (V)  Charge_Capacity (Ah)  \\\n",
              "3046            1.998            3.600                 0.957   \n",
              "3047            1.998            3.600                 0.958   \n",
              "3048            1.998            3.600                 0.958   \n",
              "3049            1.999            3.600                 0.958   \n",
              "3050            2.626            2.633                 0.000   \n",
              "\n",
              "      Discharge_Capacity (Ah)  \n",
              "3046                    0.964  \n",
              "3047                    0.963  \n",
              "3048                    0.964  \n",
              "3049                    0.964  \n",
              "3050                    0.000  "
            ],
            "text/html": [
              "\n",
              "  <div id=\"df-c690e5ae-b432-46d9-b29f-8cdd661ec020\">\n",
              "    <div class=\"colab-df-container\">\n",
              "      <div>\n",
              "<style scoped>\n",
              "    .dataframe tbody tr th:only-of-type {\n",
              "        vertical-align: middle;\n",
              "    }\n",
              "\n",
              "    .dataframe tbody tr th {\n",
              "        vertical-align: top;\n",
              "    }\n",
              "\n",
              "    .dataframe thead th {\n",
              "        text-align: right;\n",
              "    }\n",
              "</style>\n",
              "<table border=\"1\" class=\"dataframe\">\n",
              "  <thead>\n",
              "    <tr style=\"text-align: right;\">\n",
              "      <th></th>\n",
              "      <th>Cycle_Index</th>\n",
              "      <th>Test_Time (s)</th>\n",
              "      <th>Min_Current (A)</th>\n",
              "      <th>Max_Current (A)</th>\n",
              "      <th>Min_Voltage (V)</th>\n",
              "      <th>Max_Voltage (V)</th>\n",
              "      <th>Charge_Capacity (Ah)</th>\n",
              "      <th>Discharge_Capacity (Ah)</th>\n",
              "    </tr>\n",
              "  </thead>\n",
              "  <tbody>\n",
              "    <tr>\n",
              "      <th>3046</th>\n",
              "      <td>3046.0</td>\n",
              "      <td>4.307966e+07</td>\n",
              "      <td>-0.553</td>\n",
              "      <td>0.546</td>\n",
              "      <td>1.998</td>\n",
              "      <td>3.600</td>\n",
              "      <td>0.957</td>\n",
              "      <td>0.964</td>\n",
              "    </tr>\n",
              "    <tr>\n",
              "      <th>3047</th>\n",
              "      <td>3047.0</td>\n",
              "      <td>4.309375e+07</td>\n",
              "      <td>-0.553</td>\n",
              "      <td>0.547</td>\n",
              "      <td>1.998</td>\n",
              "      <td>3.600</td>\n",
              "      <td>0.958</td>\n",
              "      <td>0.963</td>\n",
              "    </tr>\n",
              "    <tr>\n",
              "      <th>3048</th>\n",
              "      <td>3048.0</td>\n",
              "      <td>4.310786e+07</td>\n",
              "      <td>-0.553</td>\n",
              "      <td>0.547</td>\n",
              "      <td>1.998</td>\n",
              "      <td>3.600</td>\n",
              "      <td>0.958</td>\n",
              "      <td>0.964</td>\n",
              "    </tr>\n",
              "    <tr>\n",
              "      <th>3049</th>\n",
              "      <td>3049.0</td>\n",
              "      <td>4.312196e+07</td>\n",
              "      <td>-0.553</td>\n",
              "      <td>0.547</td>\n",
              "      <td>1.999</td>\n",
              "      <td>3.600</td>\n",
              "      <td>0.958</td>\n",
              "      <td>0.964</td>\n",
              "    </tr>\n",
              "    <tr>\n",
              "      <th>3050</th>\n",
              "      <td>3050.0</td>\n",
              "      <td>4.312202e+07</td>\n",
              "      <td>0.000</td>\n",
              "      <td>0.000</td>\n",
              "      <td>2.626</td>\n",
              "      <td>2.633</td>\n",
              "      <td>0.000</td>\n",
              "      <td>0.000</td>\n",
              "    </tr>\n",
              "  </tbody>\n",
              "</table>\n",
              "</div>\n",
              "      <button class=\"colab-df-convert\" onclick=\"convertToInteractive('df-c690e5ae-b432-46d9-b29f-8cdd661ec020')\"\n",
              "              title=\"Convert this dataframe to an interactive table.\"\n",
              "              style=\"display:none;\">\n",
              "        \n",
              "  <svg xmlns=\"http://www.w3.org/2000/svg\" height=\"24px\"viewBox=\"0 0 24 24\"\n",
              "       width=\"24px\">\n",
              "    <path d=\"M0 0h24v24H0V0z\" fill=\"none\"/>\n",
              "    <path d=\"M18.56 5.44l.94 2.06.94-2.06 2.06-.94-2.06-.94-.94-2.06-.94 2.06-2.06.94zm-11 1L8.5 8.5l.94-2.06 2.06-.94-2.06-.94L8.5 2.5l-.94 2.06-2.06.94zm10 10l.94 2.06.94-2.06 2.06-.94-2.06-.94-.94-2.06-.94 2.06-2.06.94z\"/><path d=\"M17.41 7.96l-1.37-1.37c-.4-.4-.92-.59-1.43-.59-.52 0-1.04.2-1.43.59L10.3 9.45l-7.72 7.72c-.78.78-.78 2.05 0 2.83L4 21.41c.39.39.9.59 1.41.59.51 0 1.02-.2 1.41-.59l7.78-7.78 2.81-2.81c.8-.78.8-2.07 0-2.86zM5.41 20L4 18.59l7.72-7.72 1.47 1.35L5.41 20z\"/>\n",
              "  </svg>\n",
              "      </button>\n",
              "      \n",
              "  <style>\n",
              "    .colab-df-container {\n",
              "      display:flex;\n",
              "      flex-wrap:wrap;\n",
              "      gap: 12px;\n",
              "    }\n",
              "\n",
              "    .colab-df-convert {\n",
              "      background-color: #E8F0FE;\n",
              "      border: none;\n",
              "      border-radius: 50%;\n",
              "      cursor: pointer;\n",
              "      display: none;\n",
              "      fill: #1967D2;\n",
              "      height: 32px;\n",
              "      padding: 0 0 0 0;\n",
              "      width: 32px;\n",
              "    }\n",
              "\n",
              "    .colab-df-convert:hover {\n",
              "      background-color: #E2EBFA;\n",
              "      box-shadow: 0px 1px 2px rgba(60, 64, 67, 0.3), 0px 1px 3px 1px rgba(60, 64, 67, 0.15);\n",
              "      fill: #174EA6;\n",
              "    }\n",
              "\n",
              "    [theme=dark] .colab-df-convert {\n",
              "      background-color: #3B4455;\n",
              "      fill: #D2E3FC;\n",
              "    }\n",
              "\n",
              "    [theme=dark] .colab-df-convert:hover {\n",
              "      background-color: #434B5C;\n",
              "      box-shadow: 0px 1px 3px 1px rgba(0, 0, 0, 0.15);\n",
              "      filter: drop-shadow(0px 1px 2px rgba(0, 0, 0, 0.3));\n",
              "      fill: #FFFFFF;\n",
              "    }\n",
              "  </style>\n",
              "\n",
              "      <script>\n",
              "        const buttonEl =\n",
              "          document.querySelector('#df-c690e5ae-b432-46d9-b29f-8cdd661ec020 button.colab-df-convert');\n",
              "        buttonEl.style.display =\n",
              "          google.colab.kernel.accessAllowed ? 'block' : 'none';\n",
              "\n",
              "        async function convertToInteractive(key) {\n",
              "          const element = document.querySelector('#df-c690e5ae-b432-46d9-b29f-8cdd661ec020');\n",
              "          const dataTable =\n",
              "            await google.colab.kernel.invokeFunction('convertToInteractive',\n",
              "                                                     [key], {});\n",
              "          if (!dataTable) return;\n",
              "\n",
              "          const docLinkHtml = 'Like what you see? Visit the ' +\n",
              "            '<a target=\"_blank\" href=https://colab.research.google.com/notebooks/data_table.ipynb>data table notebook</a>'\n",
              "            + ' to learn more about interactive tables.';\n",
              "          element.innerHTML = '';\n",
              "          dataTable['output_type'] = 'display_data';\n",
              "          await google.colab.output.renderOutput(dataTable, element);\n",
              "          const docLink = document.createElement('div');\n",
              "          docLink.innerHTML = docLinkHtml;\n",
              "          element.appendChild(docLink);\n",
              "        }\n",
              "      </script>\n",
              "    </div>\n",
              "  </div>\n",
              "  "
            ]
          },
          "metadata": {},
          "execution_count": 10
        }
      ],
      "source": [
        "data.tail()"
      ]
    },
    {
      "cell_type": "code",
      "execution_count": null,
      "metadata": {
        "colab": {
          "base_uri": "https://localhost:8080/"
        },
        "id": "hl49hGqU75_l",
        "outputId": "1b09fa18-0341-4cdc-d786-d89037784f6c"
      },
      "outputs": [
        {
          "output_type": "execute_result",
          "data": {
            "text/plain": [
              "Cycle_Index                0\n",
              "Test_Time (s)              0\n",
              "Min_Current (A)            0\n",
              "Max_Current (A)            0\n",
              "Min_Voltage (V)            0\n",
              "Max_Voltage (V)            0\n",
              "Charge_Capacity (Ah)       0\n",
              "Discharge_Capacity (Ah)    0\n",
              "dtype: int64"
            ]
          },
          "metadata": {},
          "execution_count": 11
        }
      ],
      "source": [
        "data.isnull().sum()"
      ]
    },
    {
      "cell_type": "code",
      "execution_count": null,
      "metadata": {
        "colab": {
          "base_uri": "https://localhost:8080/"
        },
        "id": "E33MGE51IrlF",
        "outputId": "f1713cf2-4adb-4865-cbaf-2b83746c50f4"
      },
      "outputs": [
        {
          "output_type": "stream",
          "name": "stdout",
          "text": [
            "3050.0\n"
          ]
        }
      ],
      "source": [
        "print(data['Cycle_Index'].max())"
      ]
    },
    {
      "cell_type": "code",
      "execution_count": null,
      "metadata": {
        "id": "9Zx4yt8pG6q-"
      },
      "outputs": [],
      "source": [
        "cycle = data['Cycle_Index'].values\n",
        "time = data['Test_Time (s)'].values\n",
        "capacity = data['Charge_Capacity (Ah)'].values\n",
        "dc_capacity = data['Discharge_Capacity (Ah)'].values"
      ]
    },
    {
      "cell_type": "code",
      "execution_count": null,
      "metadata": {
        "colab": {
          "base_uri": "https://localhost:8080/",
          "height": 404
        },
        "id": "SXCk7O8HHu6B",
        "outputId": "4d278b27-ce83-45e4-a032-9fad983e31b4"
      },
      "outputs": [
        {
          "output_type": "display_data",
          "data": {
            "text/plain": [
              "<Figure size 1080x432 with 1 Axes>"
            ],
            "image/png": "[encoded data removed]"
          },
          "metadata": {
            "needs_background": "light"
          }
        }
      ],
      "source": [
        "plt.figure(figsize=(15,6))\n",
        "plt.plot(cycle, capacity, 'b')\n",
        "plt.plot(cycle, dc_capacity, 'r')\n",
        "#plt.plot(time, capacity, 'r')\n",
        "#plt.plot(cycle, time, 'g--')\n",
        "plt.title('Nonton Data')\n",
        "plt.xlabel('cycle')\n",
        "plt.ylabel('capacity')\n",
        "plt.legend(['cycle-cap', 'time-cap', 'cycle-time'])\n",
        "plt.show()"
      ]
    },
    {
      "cell_type": "markdown",
      "metadata": {
        "id": "UxYr3v6WOy7A"
      },
      "source": [
        "Berdasarkan plot data yang telah dilakukan, didapat kesimpulan bahwa data yang  diperoleh atau digunakan merupakan data time series, sehingga data tidak dapat diolah menggunakan regresi."
      ]
    },
    {
      "cell_type": "code",
      "execution_count": null,
      "metadata": {
        "id": "O7xyI9qzcSij"
      },
      "outputs": [],
      "source": [
        "SoC = data[['Charge_Capacity (Ah)']].values\n",
        "label = data[['Cycle_Index']]"
      ]
    },
    {
      "cell_type": "markdown",
      "metadata": {
        "id": "OcRkNcLKPBkz"
      },
      "source": [
        "jumlah SoC disesuaikan dengan jumlah label_train atau label_test dengan menerapkan loc atau iloc"
      ]
    },
    {
      "cell_type": "code",
      "execution_count": null,
      "metadata": {
        "colab": {
          "base_uri": "https://localhost:8080/"
        },
        "id": "RWuEsZRvUZTi",
        "outputId": "7b930b0f-ce31-45df-fdba-b74532ba205a"
      },
      "outputs": [
        {
          "output_type": "execute_result",
          "data": {
            "text/plain": [
              "(3051, 1)"
            ]
          },
          "metadata": {},
          "execution_count": 10
        }
      ],
      "source": [
        "SoC.shape"
      ]
    },
    {
      "cell_type": "code",
      "execution_count": null,
      "metadata": {
        "colab": {
          "base_uri": "https://localhost:8080/"
        },
        "id": "RotuZmWxUz9F",
        "outputId": "c91c90db-94c9-4b68-af95-f83a73905f74"
      },
      "outputs": [
        {
          "output_type": "execute_result",
          "data": {
            "text/plain": [
              "(3051, 1)"
            ]
          },
          "metadata": {},
          "execution_count": 11
        }
      ],
      "source": [
        "label.shape"
      ]
    },
    {
      "cell_type": "code",
      "execution_count": null,
      "metadata": {
        "colab": {
          "base_uri": "https://localhost:8080/"
        },
        "id": "Yx2NLSrRgn0X",
        "outputId": "7ab292a2-fd44-40f2-c5f3-a0e3379b2f4e"
      },
      "outputs": [
        {
          "output_type": "execute_result",
          "data": {
            "text/plain": [
              "611"
            ]
          },
          "metadata": {},
          "execution_count": 12
        }
      ],
      "source": [
        "SoC_latih, SoC_test, label_latih, label_test = train_test_split(SoC, label, test_size=0.2, shuffle=False)\n",
        "len(SoC_test)"
      ]
    },
    {
      "cell_type": "code",
      "execution_count": null,
      "metadata": {
        "colab": {
          "base_uri": "https://localhost:8080/",
          "height": 81
        },
        "id": "GYy137BcXaXH",
        "outputId": "e41bf53c-28c5-4195-b344-1e4e39c6c5ac"
      },
      "outputs": [
        {
          "output_type": "execute_result",
          "data": {
            "text/plain": [
              "              count         mean         std  min     25%     50%      75%  \\\n",
              "Cycle_Index  2440.0  1221.052049  704.245638  1.0  611.75  1221.5  1830.25   \n",
              "\n",
              "                max  \n",
              "Cycle_Index  2440.0  "
            ],
            "text/html": [
              "\n",
              "  <div id=\"df-7c83cfc2-f91f-4c1e-b76f-71233b3f88a6\">\n",
              "    <div class=\"colab-df-container\">\n",
              "      <div>\n",
              "<style scoped>\n",
              "    .dataframe tbody tr th:only-of-type {\n",
              "        vertical-align: middle;\n",
              "    }\n",
              "\n",
              "    .dataframe tbody tr th {\n",
              "        vertical-align: top;\n",
              "    }\n",
              "\n",
              "    .dataframe thead th {\n",
              "        text-align: right;\n",
              "    }\n",
              "</style>\n",
              "<table border=\"1\" class=\"dataframe\">\n",
              "  <thead>\n",
              "    <tr style=\"text-align: right;\">\n",
              "      <th></th>\n",
              "      <th>count</th>\n",
              "      <th>mean</th>\n",
              "      <th>std</th>\n",
              "      <th>min</th>\n",
              "      <th>25%</th>\n",
              "      <th>50%</th>\n",
              "      <th>75%</th>\n",
              "      <th>max</th>\n",
              "    </tr>\n",
              "  </thead>\n",
              "  <tbody>\n",
              "    <tr>\n",
              "      <th>Cycle_Index</th>\n",
              "      <td>2440.0</td>\n",
              "      <td>1221.052049</td>\n",
              "      <td>704.245638</td>\n",
              "      <td>1.0</td>\n",
              "      <td>611.75</td>\n",
              "      <td>1221.5</td>\n",
              "      <td>1830.25</td>\n",
              "      <td>2440.0</td>\n",
              "    </tr>\n",
              "  </tbody>\n",
              "</table>\n",
              "</div>\n",
              "      <button class=\"colab-df-convert\" onclick=\"convertToInteractive('df-7c83cfc2-f91f-4c1e-b76f-71233b3f88a6')\"\n",
              "              title=\"Convert this dataframe to an interactive table.\"\n",
              "              style=\"display:none;\">\n",
              "        \n",
              "  <svg xmlns=\"http://www.w3.org/2000/svg\" height=\"24px\"viewBox=\"0 0 24 24\"\n",
              "       width=\"24px\">\n",
              "    <path d=\"M0 0h24v24H0V0z\" fill=\"none\"/>\n",
              "    <path d=\"M18.56 5.44l.94 2.06.94-2.06 2.06-.94-2.06-.94-.94-2.06-.94 2.06-2.06.94zm-11 1L8.5 8.5l.94-2.06 2.06-.94-2.06-.94L8.5 2.5l-.94 2.06-2.06.94zm10 10l.94 2.06.94-2.06 2.06-.94-2.06-.94-.94-2.06-.94 2.06-2.06.94z\"/><path d=\"M17.41 7.96l-1.37-1.37c-.4-.4-.92-.59-1.43-.59-.52 0-1.04.2-1.43.59L10.3 9.45l-7.72 7.72c-.78.78-.78 2.05 0 2.83L4 21.41c.39.39.9.59 1.41.59.51 0 1.02-.2 1.41-.59l7.78-7.78 2.81-2.81c.8-.78.8-2.07 0-2.86zM5.41 20L4 18.59l7.72-7.72 1.47 1.35L5.41 20z\"/>\n",
              "  </svg>\n",
              "      </button>\n",
              "      \n",
              "  <style>\n",
              "    .colab-df-container {\n",
              "      display:flex;\n",
              "      flex-wrap:wrap;\n",
              "      gap: 12px;\n",
              "    }\n",
              "\n",
              "    .colab-df-convert {\n",
              "      background-color: #E8F0FE;\n",
              "      border: none;\n",
              "      border-radius: 50%;\n",
              "      cursor: pointer;\n",
              "      display: none;\n",
              "      fill: #1967D2;\n",
              "      height: 32px;\n",
              "      padding: 0 0 0 0;\n",
              "      width: 32px;\n",
              "    }\n",
              "\n",
              "    .colab-df-convert:hover {\n",
              "      background-color: #E2EBFA;\n",
              "      box-shadow: 0px 1px 2px rgba(60, 64, 67, 0.3), 0px 1px 3px 1px rgba(60, 64, 67, 0.15);\n",
              "      fill: #174EA6;\n",
              "    }\n",
              "\n",
              "    [theme=dark] .colab-df-convert {\n",
              "      background-color: #3B4455;\n",
              "      fill: #D2E3FC;\n",
              "    }\n",
              "\n",
              "    [theme=dark] .colab-df-convert:hover {\n",
              "      background-color: #434B5C;\n",
              "      box-shadow: 0px 1px 3px 1px rgba(0, 0, 0, 0.15);\n",
              "      filter: drop-shadow(0px 1px 2px rgba(0, 0, 0, 0.3));\n",
              "      fill: #FFFFFF;\n",
              "    }\n",
              "  </style>\n",
              "\n",
              "      <script>\n",
              "        const buttonEl =\n",
              "          document.querySelector('#df-7c83cfc2-f91f-4c1e-b76f-71233b3f88a6 button.colab-df-convert');\n",
              "        buttonEl.style.display =\n",
              "          google.colab.kernel.accessAllowed ? 'block' : 'none';\n",
              "\n",
              "        async function convertToInteractive(key) {\n",
              "          const element = document.querySelector('#df-7c83cfc2-f91f-4c1e-b76f-71233b3f88a6');\n",
              "          const dataTable =\n",
              "            await google.colab.kernel.invokeFunction('convertToInteractive',\n",
              "                                                     [key], {});\n",
              "          if (!dataTable) return;\n",
              "\n",
              "          const docLinkHtml = 'Like what you see? Visit the ' +\n",
              "            '<a target=\"_blank\" href=https://colab.research.google.com/notebooks/data_table.ipynb>data table notebook</a>'\n",
              "            + ' to learn more about interactive tables.';\n",
              "          element.innerHTML = '';\n",
              "          dataTable['output_type'] = 'display_data';\n",
              "          await google.colab.output.renderOutput(dataTable, element);\n",
              "          const docLink = document.createElement('div');\n",
              "          docLink.innerHTML = docLinkHtml;\n",
              "          element.appendChild(docLink);\n",
              "        }\n",
              "      </script>\n",
              "    </div>\n",
              "  </div>\n",
              "  "
            ]
          },
          "metadata": {},
          "execution_count": 13
        }
      ],
      "source": [
        "train_stats = label_latih.describe().transpose()\n",
        "train_stats"
      ]
    },
    {
      "cell_type": "code",
      "execution_count": null,
      "metadata": {
        "id": "XEGM41gWzTEc"
      },
      "outputs": [],
      "source": [
        "def dataset_window(series, window_size, batch_size, shuffle_buffer):\n",
        "  #series = tf.expand_dims(series, axis=1)\n",
        "  ds = tf.data.Dataset.from_tensor_slices(series)\n",
        "  ds = ds.window(window_size+1, shift=1, drop_remainder=True)\n",
        "  ds = ds.flat_map(lambda w: w.batch(window_size+1))\n",
        "  if shuffle_buffer:\n",
        "    ds = ds.shuffle(shuffle_buffer)\n",
        "  ds = ds.map(lambda w: (w[:-1], w[-1:]))\n",
        "  ds = ds.map(lambda x, y: (tf.expand_dims(x, axis=-1), y))\n",
        "  return ds.batch(batch_size).prefetch(1)"
      ]
    },
    {
      "cell_type": "code",
      "execution_count": null,
      "metadata": {
        "colab": {
          "base_uri": "https://localhost:8080/"
        },
        "id": "RrO6RP1x6APj",
        "outputId": "9b5a2b9e-df92-4552-8dd7-c9d99d4fd2cd"
      },
      "outputs": [
        {
          "output_type": "execute_result",
          "data": {
            "text/plain": [
              "<KerasTensor: shape=(None, 60, 1) dtype=float32 (created by layer 'input_1')>"
            ]
          },
          "metadata": {},
          "execution_count": 15
        }
      ],
      "source": [
        "input = tf.keras.layers.Input(shape=(60, 1))\n",
        "input"
      ]
    },
    {
      "cell_type": "code",
      "execution_count": null,
      "metadata": {
        "id": "NSaCBQc20aWG"
      },
      "outputs": [],
      "source": [
        "train_setting = dataset_window(SoC_latih, window_size=60, batch_size=90, shuffle_buffer=500)"
      ]
    },
    {
      "cell_type": "code",
      "execution_count": null,
      "metadata": {
        "id": "id_E4ZeUBCyz"
      },
      "outputs": [],
      "source": [
        "model = tf.keras.models.Sequential([\n",
        "                                    input,\n",
        "                                    tf.keras.layers.LSTM(60, return_sequences=False),\n",
        "                                    tf.keras.layers.Dense(30, activation='relu'),\n",
        "                                    tf.keras.layers.Dense(10, activation='relu'),\n",
        "                                    tf.keras.layers.Dense(1)\n",
        "])"
      ]
    },
    {
      "cell_type": "code",
      "execution_count": null,
      "metadata": {
        "colab": {
          "base_uri": "https://localhost:8080/"
        },
        "id": "fMJzdbeG1i3n",
        "outputId": "67b326a3-0212-4649-fe00-8e5d6a62767b"
      },
      "outputs": [
        {
          "output_type": "stream",
          "name": "stderr",
          "text": [
            "/usr/local/lib/python3.7/dist-packages/keras/optimizer_v2/gradient_descent.py:102: UserWarning: The `lr` argument is deprecated, use `learning_rate` instead.\n",
            "  super(SGD, self).__init__(name, **kwargs)\n"
          ]
        }
      ],
      "source": [
        "optimizer = tf.keras.optimizers.SGD(lr=1.0000e-4, momentum=0.9)"
      ]
    },
    {
      "cell_type": "code",
      "execution_count": null,
      "metadata": {
        "id": "Up6S8v141sph"
      },
      "outputs": [],
      "source": [
        "model.compile(loss=tf.keras.losses.Huber(),\n",
        "              optimizer=optimizer,\n",
        "              metrics=['mae'])"
      ]
    },
    {
      "cell_type": "code",
      "execution_count": null,
      "metadata": {
        "colab": {
          "base_uri": "https://localhost:8080/"
        },
        "id": "TlbbLwJU6nW2",
        "outputId": "0fe95ca0-71a5-4dd1-d171-f9eb4ff385d6"
      },
      "outputs": [
        {
          "output_type": "execute_result",
          "data": {
            "text/plain": [
              "<keras.engine.sequential.Sequential at 0x7f14e0de0c90>"
            ]
          },
          "metadata": {},
          "execution_count": 20
        }
      ],
      "source": [
        "model.build(input_shape=(10,))\n",
        "model"
      ]
    },
    {
      "cell_type": "code",
      "execution_count": null,
      "metadata": {
        "colab": {
          "base_uri": "https://localhost:8080/"
        },
        "id": "7Rz3r3gz5TSn",
        "outputId": "d3cb8f02-f6b5-465c-826a-ea4725fbad2d"
      },
      "outputs": [
        {
          "output_type": "stream",
          "name": "stdout",
          "text": [
            "Model: \"sequential\"\n",
            "_________________________________________________________________\n",
            " Layer (type)                Output Shape              Param #   \n",
            "=================================================================\n",
            " lstm (LSTM)                 (None, 60)                14880     \n",
            "                                                                 \n",
            " dense (Dense)               (None, 30)                1830      \n",
            "                                                                 \n",
            " dense_1 (Dense)             (None, 10)                310       \n",
            "                                                                 \n",
            " dense_2 (Dense)             (None, 1)                 11        \n",
            "                                                                 \n",
            "=================================================================\n",
            "Total params: 17,031\n",
            "Trainable params: 17,031\n",
            "Non-trainable params: 0\n",
            "_________________________________________________________________\n"
          ]
        }
      ],
      "source": [
        "model.summary()"
      ]
    },
    {
      "cell_type": "code",
      "execution_count": null,
      "metadata": {
        "colab": {
          "base_uri": "https://localhost:8080/"
        },
        "id": "lNQdrxtd46S_",
        "outputId": "addc3bba-ba70-45f7-b78f-acf1baca5640"
      },
      "outputs": [
        {
          "output_type": "stream",
          "name": "stdout",
          "text": [
            "Epoch 1/60\n",
            "27/27 [==============================] - 4s 63ms/step - loss: 0.5061 - mae: 1.0033\n",
            "Epoch 2/60\n",
            "27/27 [==============================] - 2s 53ms/step - loss: 0.2998 - mae: 0.7681\n",
            "Epoch 3/60\n",
            "27/27 [==============================] - 2s 55ms/step - loss: 0.1656 - mae: 0.5710\n",
            "Epoch 4/60\n",
            "27/27 [==============================] - 2s 55ms/step - loss: 0.1002 - mae: 0.4425\n",
            "Epoch 5/60\n",
            "27/27 [==============================] - 1s 49ms/step - loss: 0.0602 - mae: 0.3404\n",
            "Epoch 6/60\n",
            "27/27 [==============================] - 1s 49ms/step - loss: 0.0358 - mae: 0.2588\n",
            "Epoch 7/60\n",
            "27/27 [==============================] - 1s 49ms/step - loss: 0.0215 - mae: 0.1956\n",
            "Epoch 8/60\n",
            "27/27 [==============================] - 2s 55ms/step - loss: 0.0133 - mae: 0.1469\n",
            "Epoch 9/60\n",
            "27/27 [==============================] - 2s 55ms/step - loss: 0.0087 - mae: 0.1099\n",
            "Epoch 10/60\n",
            "27/27 [==============================] - 1s 50ms/step - loss: 0.0061 - mae: 0.0819\n",
            "Epoch 11/60\n",
            "27/27 [==============================] - 1s 50ms/step - loss: 0.0047 - mae: 0.0613\n",
            "Epoch 12/60\n",
            "27/27 [==============================] - 2s 54ms/step - loss: 0.0039 - mae: 0.0461\n",
            "Epoch 13/60\n",
            "27/27 [==============================] - 2s 66ms/step - loss: 0.0035 - mae: 0.0351\n",
            "Epoch 14/60\n",
            "27/27 [==============================] - 2s 55ms/step - loss: 0.0033 - mae: 0.0276\n",
            "Epoch 15/60\n",
            "27/27 [==============================] - 2s 51ms/step - loss: 0.0032 - mae: 0.0233\n",
            "Epoch 16/60\n",
            "27/27 [==============================] - 1s 48ms/step - loss: 0.0032 - mae: 0.0211\n",
            "Epoch 17/60\n",
            "27/27 [==============================] - 1s 49ms/step - loss: 0.0031 - mae: 0.0197\n",
            "Epoch 18/60\n",
            "27/27 [==============================] - 2s 52ms/step - loss: 0.0031 - mae: 0.0190\n",
            "Epoch 19/60\n",
            "27/27 [==============================] - 1s 50ms/step - loss: 0.0031 - mae: 0.0186\n",
            "Epoch 20/60\n",
            "27/27 [==============================] - 2s 55ms/step - loss: 0.0031 - mae: 0.0183\n",
            "Epoch 21/60\n",
            "27/27 [==============================] - 2s 51ms/step - loss: 0.0031 - mae: 0.0183\n",
            "Epoch 22/60\n",
            "27/27 [==============================] - 2s 55ms/step - loss: 0.0031 - mae: 0.0182\n",
            "Epoch 23/60\n",
            "27/27 [==============================] - 2s 53ms/step - loss: 0.0031 - mae: 0.0181\n",
            "Epoch 24/60\n",
            "27/27 [==============================] - 2s 54ms/step - loss: 0.0031 - mae: 0.0181\n",
            "Epoch 25/60\n",
            "27/27 [==============================] - 2s 55ms/step - loss: 0.0031 - mae: 0.0181\n",
            "Epoch 26/60\n",
            "27/27 [==============================] - 2s 54ms/step - loss: 0.0031 - mae: 0.0181\n",
            "Epoch 27/60\n",
            "27/27 [==============================] - 1s 50ms/step - loss: 0.0031 - mae: 0.0181\n",
            "Epoch 28/60\n",
            "27/27 [==============================] - 1s 49ms/step - loss: 0.0031 - mae: 0.0181\n",
            "Epoch 29/60\n",
            "27/27 [==============================] - 2s 52ms/step - loss: 0.0031 - mae: 0.0181\n",
            "Epoch 30/60\n",
            "27/27 [==============================] - 2s 54ms/step - loss: 0.0031 - mae: 0.0181\n",
            "Epoch 31/60\n",
            "27/27 [==============================] - 1s 48ms/step - loss: 0.0031 - mae: 0.0181\n",
            "Epoch 32/60\n",
            "27/27 [==============================] - 2s 54ms/step - loss: 0.0031 - mae: 0.0180\n",
            "Epoch 33/60\n",
            "27/27 [==============================] - 1s 51ms/step - loss: 0.0031 - mae: 0.0181\n",
            "Epoch 34/60\n",
            "27/27 [==============================] - 2s 55ms/step - loss: 0.0031 - mae: 0.0181\n",
            "Epoch 35/60\n",
            "27/27 [==============================] - 2s 55ms/step - loss: 0.0031 - mae: 0.0181\n",
            "Epoch 36/60\n",
            "27/27 [==============================] - 2s 55ms/step - loss: 0.0031 - mae: 0.0181\n",
            "Epoch 37/60\n",
            "27/27 [==============================] - 1s 50ms/step - loss: 0.0031 - mae: 0.0181\n",
            "Epoch 38/60\n",
            "27/27 [==============================] - 2s 53ms/step - loss: 0.0031 - mae: 0.0181\n",
            "Epoch 39/60\n",
            "27/27 [==============================] - 2s 56ms/step - loss: 0.0031 - mae: 0.0181\n",
            "Epoch 40/60\n",
            "27/27 [==============================] - 2s 53ms/step - loss: 0.0031 - mae: 0.0181\n",
            "Epoch 41/60\n",
            "27/27 [==============================] - 1s 48ms/step - loss: 0.0031 - mae: 0.0181\n",
            "Epoch 42/60\n",
            "27/27 [==============================] - 1s 49ms/step - loss: 0.0031 - mae: 0.0180\n",
            "Epoch 43/60\n",
            "27/27 [==============================] - 1s 50ms/step - loss: 0.0031 - mae: 0.0181\n",
            "Epoch 44/60\n",
            "27/27 [==============================] - 2s 54ms/step - loss: 0.0031 - mae: 0.0181\n",
            "Epoch 45/60\n",
            "27/27 [==============================] - 2s 54ms/step - loss: 0.0031 - mae: 0.0181\n",
            "Epoch 46/60\n",
            "27/27 [==============================] - 2s 53ms/step - loss: 0.0031 - mae: 0.0181\n",
            "Epoch 47/60\n",
            "27/27 [==============================] - 2s 52ms/step - loss: 0.0031 - mae: 0.0181\n",
            "Epoch 48/60\n",
            "27/27 [==============================] - 2s 53ms/step - loss: 0.0031 - mae: 0.0181\n",
            "Epoch 49/60\n",
            "27/27 [==============================] - 2s 53ms/step - loss: 0.0031 - mae: 0.0180\n",
            "Epoch 50/60\n",
            "27/27 [==============================] - 1s 50ms/step - loss: 0.0031 - mae: 0.0181\n",
            "Epoch 51/60\n",
            "27/27 [==============================] - 2s 56ms/step - loss: 0.0031 - mae: 0.0181\n",
            "Epoch 52/60\n",
            "27/27 [==============================] - 2s 51ms/step - loss: 0.0031 - mae: 0.0180\n",
            "Epoch 53/60\n",
            "27/27 [==============================] - 2s 54ms/step - loss: 0.0031 - mae: 0.0181\n",
            "Epoch 54/60\n",
            "27/27 [==============================] - 2s 51ms/step - loss: 0.0031 - mae: 0.0181\n",
            "Epoch 55/60\n",
            "27/27 [==============================] - 2s 54ms/step - loss: 0.0031 - mae: 0.0181\n",
            "Epoch 56/60\n",
            "27/27 [==============================] - 2s 55ms/step - loss: 0.0031 - mae: 0.0181\n",
            "Epoch 57/60\n",
            "27/27 [==============================] - 2s 51ms/step - loss: 0.0031 - mae: 0.0181\n",
            "Epoch 58/60\n",
            "27/27 [==============================] - 1s 49ms/step - loss: 0.0031 - mae: 0.0181\n",
            "Epoch 59/60\n",
            "27/27 [==============================] - 2s 55ms/step - loss: 0.0031 - mae: 0.0180\n",
            "Epoch 60/60\n",
            "27/27 [==============================] - 2s 54ms/step - loss: 0.0031 - mae: 0.0181\n"
          ]
        }
      ],
      "source": [
        "history = model.fit(train_setting, epochs=60)"
      ]
    },
    {
      "cell_type": "code",
      "execution_count": null,
      "metadata": {
        "colab": {
          "base_uri": "https://localhost:8080/",
          "height": 295
        },
        "id": "ZbHsWdXq702w",
        "outputId": "2f3e37aa-0b47-45f0-a995-eee761b97b4c"
      },
      "outputs": [
        {
          "output_type": "display_data",
          "data": {
            "text/plain": [
              "<Figure size 432x288 with 1 Axes>"
            ],
            "image/png": "[encoded data removed]"
          },
          "metadata": {
            "needs_background": "light"
          }
        }
      ],
      "source": [
        "plt.plot(history.history['loss'], 'r')\n",
        "plt.plot(history.history['mae'], 'b')\n",
        "plt.title('Plot Model Train')\n",
        "plt.xlabel('loss and Mae')\n",
        "plt.ylabel('epoch')\n",
        "plt.legend(['loss', 'mae'], loc='upper right')\n",
        "plt.show()"
      ]
    },
    {
      "cell_type": "code",
      "execution_count": null,
      "metadata": {
        "colab": {
          "base_uri": "https://localhost:8080/"
        },
        "id": "kG3BbWSL8Scp",
        "outputId": "b1ecb439-0e09-448f-c4c0-295ac1f0fe58"
      },
      "outputs": [
        {
          "output_type": "stream",
          "name": "stdout",
          "text": [
            "Nilai mae yang diperoleh adalah 0.01801268383860588, \n",
            "Nilai loss yang diperoleh adalah 0.0030812935438007116, "
          ]
        }
      ],
      "source": [
        "print(\"Nilai mae yang diperoleh adalah\", min(history.history['mae']), end=', ')\n",
        "print(\"\\nNilai loss yang diperoleh adalah\", min(history.history['loss']), end=', ')"
      ]
    },
    {
      "cell_type": "markdown",
      "metadata": {
        "id": "eyT8Q4NlLRB6"
      },
      "source": [
        "alasan kenapa jumlah train setting nya berubah adalah karena pengaruh dari window size di kode diatas"
      ]
    },
    {
      "cell_type": "code",
      "source": [
        "prediksi = model.predict(SoC_latih[60][np.newaxis])\n",
        "prediksi"
      ],
      "metadata": {
        "colab": {
          "base_uri": "https://localhost:8080/"
        },
        "id": "M7qEZEbv8H9f",
        "outputId": "16aacfb4-298e-4780-9ca4-1547b2d48e03"
      },
      "execution_count": null,
      "outputs": [
        {
          "output_type": "stream",
          "name": "stdout",
          "text": [
            "WARNING:tensorflow:Model was constructed with shape (None, 60, 1) for input KerasTensor(type_spec=TensorSpec(shape=(None, 60, 1), dtype=tf.float32, name='input_1'), name='input_1', description=\"created by layer 'input_1'\"), but it was called on an input with incompatible shape (None, 1, 1).\n"
          ]
        },
        {
          "output_type": "execute_result",
          "data": {
            "text/plain": [
              "array([[0.4535595]], dtype=float32)"
            ]
          },
          "metadata": {},
          "execution_count": 28
        }
      ]
    },
    {
      "cell_type": "code",
      "source": [
        "timeseries = []\n",
        "for time in range(len(SoC) - 60):\n",
        "  timeseries.append(model.predict(SoC[time:time + 60][np.newaxis]))\n",
        "timeseries = timeseries[2440 - 60:]\n",
        "hasil = np.array(timeseries)[:, 0, 0]"
      ],
      "metadata": {
        "id": "CYcRw3zq_HH-"
      },
      "execution_count": null,
      "outputs": []
    },
    {
      "cell_type": "code",
      "source": [
        "print(len(hasil))"
      ],
      "metadata": {
        "colab": {
          "base_uri": "https://localhost:8080/"
        },
        "id": "sbD1TiHzR9lL",
        "outputId": "dc4a8fc9-cf51-4037-bcb8-6e000cb775a0"
      },
      "execution_count": null,
      "outputs": [
        {
          "output_type": "stream",
          "name": "stdout",
          "text": [
            "611\n"
          ]
        }
      ]
    },
    {
      "cell_type": "code",
      "source": [
        "mae = mean_absolute_error(SoC_test, hasil)\n",
        "mae"
      ],
      "metadata": {
        "colab": {
          "base_uri": "https://localhost:8080/"
        },
        "id": "j-UcGX_TEm-i",
        "outputId": "0a9ef3fa-749a-4bdb-b513-133898ea7eab"
      },
      "execution_count": null,
      "outputs": [
        {
          "output_type": "execute_result",
          "data": {
            "text/plain": [
              "0.032410564850278094"
            ]
          },
          "metadata": {},
          "execution_count": 31
        }
      ]
    },
    {
      "cell_type": "code",
      "source": [
        "plt.figure(figsize=(20,6))\n",
        "plt.plot(label_test, SoC_test)\n",
        "plt.plot(label_test, hasil)\n",
        "plt.xlabel(\"Cycle Data\")\n",
        "plt.ylabel(\"SoC\")\n",
        "plt.legend([\"SoC Test\", \"SoC Prediksi\"])\n",
        "plt.show()"
      ],
      "metadata": {
        "colab": {
          "base_uri": "https://localhost:8080/",
          "height": 390
        },
        "id": "s3aIitH8OGcD",
        "outputId": "0b041e7f-17bf-42b7-bdfe-b5eb03b80e9e"
      },
      "execution_count": null,
      "outputs": [
        {
          "output_type": "display_data",
          "data": {
            "text/plain": [
              "<Figure size 1440x432 with 1 Axes>"
            ],
            "image/png": "[encoded data removed]"
          },
          "metadata": {
            "needs_background": "light"
          }
        }
      ]
    }
  ],
  "metadata": {
    "colab": {
      "collapsed_sections": [],
      "name": "Battery_LFP_TimeSeries",
      "provenance": [],
      "authorship_tag": "ABX9TyObAAobIE4GRckhRx1n1uNy",
      "include_colab_link": true
    },
    "kernelspec": {
      "display_name": "Python 3",
      "name": "python3"
    },
    "language_info": {
      "name": "python"
    }
  },
  "nbformat": 4,
  "nbformat_minor": 0
}